{
 "cells": [
  {
   "cell_type": "code",
   "execution_count": 19,
   "metadata": {},
   "outputs": [],
   "source": [
    "import pandas as pd\n",
    "import numpy as np"
   ]
  },
  {
   "cell_type": "code",
   "execution_count": 20,
   "metadata": {},
   "outputs": [],
   "source": [
    "class Perceptron:\n",
    "    def fit(self,X,y):\n",
    "        #Initialization\n",
    "        X[\"bias\"] = 1\n",
    "        self.weight= np.zeros(X.shape[1])\n",
    "\n",
    "        while True:\n",
    "            misclassifications = 0\n",
    "            for i in range(X.shape[0]):\n",
    "                X_i = X.iloc[i,:]\n",
    "                y_i = y.iloc[i,:]\n",
    "                if y_i*(np.dot(self.weight,X_i))<=0:\n",
    "                    self.weight = self.weight+y_i*X_i\n",
    "                    misclassifications+=1\n",
    "            if misclassifications==0:\n",
    "                break\n",
    "\n",
    "    def predict(self,X):\n",
    "        prediction = np.empty()\n",
    "        for i in range(X.shape[0]):\n",
    "            X_i = X.iloc[i,:]\n",
    "            if np.dot(X_i,self.weight)>0:\n",
    "                prediction.append(1)\n",
    "            else:\n",
    "                prediction.append(-1)\n",
    "        return prediction"
   ]
  }
 ],
 "metadata": {
  "kernelspec": {
   "display_name": "Python 3",
   "language": "python",
   "name": "python3"
  },
  "language_info": {
   "codemirror_mode": {
    "name": "ipython",
    "version": 3
   },
   "file_extension": ".py",
   "mimetype": "text/x-python",
   "name": "python",
   "nbconvert_exporter": "python",
   "pygments_lexer": "ipython3",
   "version": "3.10.6"
  },
  "orig_nbformat": 4
 },
 "nbformat": 4,
 "nbformat_minor": 2
}
